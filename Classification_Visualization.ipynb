{
 "cells": [
  {
   "cell_type": "code",
   "execution_count": 2,
   "metadata": {},
   "outputs": [
    {
     "name": "stdout",
     "output_type": "stream",
     "text": [
      "['HIGH' 'ISLAY' 'LOW' 'LOW ']\n",
      "[2 4 5 3 1]\n",
      "region\n",
      "HIGH     89\n",
      "ISLAY     8\n",
      "LOW      11\n",
      "LOW       1\n",
      "dtype: int64\n"
     ]
    }
   ],
   "source": [
    "#Read scotch.csv and check the unique labels in each dist and region\n",
    "\n",
    "%matplotlib inline\n",
    "import pandas as pd\n",
    "import matplotlib.pyplot as plt\n",
    "import seaborn as sns\n",
    "\n",
    "Scotch = pd.read_csv('scotch.csv')\n",
    "Scotch.head()\n",
    "print(Scotch['region'].unique())\n",
    "print(Scotch['dist'].unique())\n",
    "\n",
    "\n",
    "\n",
    "print(Scotch.groupby('region').size())\n",
    "\n"
   ]
  },
  {
   "cell_type": "code",
   "execution_count": 3,
   "metadata": {},
   "outputs": [
    {
     "data": {
      "image/png": "[encoded data removed]",
      "text/plain": [
       "<Figure size 432x288 with 1 Axes>"
      ]
     },
     "metadata": {
      "needs_background": "light"
     },
     "output_type": "display_data"
    }
   ],
   "source": [
    "#Plot on a graph the counts of each region\n",
    "sns.countplot(Scotch['region'],label=\"Count\")\n",
    "plt.show()\n",
    "plt.close()"
   ]
  },
  {
   "cell_type": "code",
   "execution_count": 4,
   "metadata": {
    "scrolled": true
   },
   "outputs": [
    {
     "data": {
      "image/png": "[encoded data removed]",
      "text/plain": [
       "<Figure size 432x288 with 1 Axes>"
      ]
     },
     "metadata": {
      "needs_background": "light"
     },
     "output_type": "display_data"
    }
   ],
   "source": [
    "#plot on a graph the counts of each dist\n",
    "sns.countplot(Scotch['dist'],label=\"Count\")\n",
    "plt.show()\n",
    "\n",
    "#Concatinate Region and District to create a single label \n",
    "\n",
    "#Scotch['regiondist'] = Scotch.dist.astype(str).str.cat(Scotch.region.astype(str), sep='-')\n",
    "\n",
    "plt.close()"
   ]
  },
  {
   "cell_type": "code",
   "execution_count": 5,
   "metadata": {},
   "outputs": [
    {
     "data": {
      "image/png": "[encoded data removed]",
      "text/plain": [
       "<Figure size 432x288 with 1 Axes>"
      ]
     },
     "metadata": {
      "needs_background": "light"
     },
     "output_type": "display_data"
    }
   ],
   "source": [
    "#First concat the dist-region to create a single label\n",
    "\n",
    "Scotch['regiondist'] = Scotch.dist.astype(str).str.cat(Scotch.region.astype(str), sep='-')\n",
    "\n",
    "#Plot on a graph the counts of dist-region \n",
    "sns.countplot(Scotch['regiondist'],label=\"Count\")\n",
    "#plt.figure(figsize=(40,4))\n",
    "#plt.show()\n",
    "plt.rcParams[\"figure.figsize\"] = [13,5]\n",
    "plt.show()\n",
    "plt.close()"
   ]
  },
  {
   "cell_type": "code",
   "execution_count": 6,
   "metadata": {},
   "outputs": [
    {
     "name": "stdout",
     "output_type": "stream",
     "text": [
      "['2-HIGH' '4-HIGH' '4-ISLAY' '5-LOW' '3-HIGH' '1-HIGH' '4-LOW ' '3-ISLAY'\n",
      " '4-LOW' '5-HIGH' '2-LOW' '5-ISLAY']\n"
     ]
    }
   ],
   "source": [
    "#Features and labels for Classifying regions\n",
    "from sklearn.preprocessing import MultiLabelBinarizer\n",
    "from pandas.tools.plotting import scatter_matrix\n",
    "from matplotlib import cm\n",
    "\n",
    "#The features that will be used for Training & Testing\n",
    "featurenames = ['color.wyne',\n",
    " 'color.yellow',\n",
    " 'color.v.pale',\n",
    " 'color.pale',\n",
    " 'color.p.gold',\n",
    " 'color.gold',\n",
    " 'color.o.gold',\n",
    " 'color.f.gold',\n",
    " 'color.bronze',\n",
    " 'color.p.amber',\n",
    " 'color.amber',\n",
    " 'color.f.amber',\n",
    " 'color.red',\n",
    " 'color.sherry',\n",
    " 'nose.aroma',\n",
    " 'nose.peat',\n",
    " 'nose.sweet',\n",
    " 'nose.light',\n",
    " 'nose.fresh',\n",
    " 'nose.dry',\n",
    " 'nose.fruit',\n",
    " 'nose.grass',\n",
    " 'nose.sea',\n",
    " 'nose.sherry',\n",
    " 'nose.spicy',\n",
    " 'nose.rich',\n",
    " 'body.soft',\n",
    " 'body.med',\n",
    " 'body.full',\n",
    " 'body.round',\n",
    " 'body.smooth',\n",
    " 'body.light',\n",
    " 'body.firm',\n",
    " 'body.oily',\n",
    " 'pal.full',\n",
    " 'pal.dry',\n",
    " 'pal.sherry',\n",
    " 'pal.big',\n",
    " 'pal.light',\n",
    " 'pal.smooth',\n",
    " 'pal.clean',\n",
    " 'pal.fruit',\n",
    " 'pal.grass',\n",
    " 'pal.smoke',\n",
    " 'pal.sweet',\n",
    " 'pal.spice',\n",
    " 'pal.oil',\n",
    " 'pal.salt',\n",
    " 'pal.arome',\n",
    " 'fin.full',\n",
    " 'fin.dry',\n",
    " 'fin.war',\n",
    " 'fin.big',\n",
    " 'fin.light',\n",
    " 'fin.smooth',\n",
    " 'fin.clean',\n",
    " 'fin.fruit',\n",
    " 'fin.grass',\n",
    " 'fin.smoke',\n",
    " 'fin.sweet',\n",
    " 'fin.spice',\n",
    " 'fin.oil',\n",
    " 'fin.salt',\n",
    " 'fin.arome',\n",
    " 'fin.ling',\n",
    " 'fin.long',\n",
    " 'fin.very',\n",
    " 'fin.quick'\n",
    ", 'age'\n",
    "#,\n",
    " #'dist',\n",
    ",'score'\n",
    " #'region'\n",
    "    ]\n",
    "\n",
    "#Scotch['regiondist'] = Scotch.dist.astype(str).str.cat(Scotch.region.astype(str), sep='-')\n",
    "\n",
    "X = Scotch[featurenames]\n",
    "#y = Scotch['regiondist']\n",
    "y = Scotch['region']\n",
    "\n",
    "#MultiLabelBinarizer().fit_transform(y)\n",
    "#Scotch['region-dist'].head()\n",
    "print(Scotch['regiondist'].unique())\n",
    "#y2 = Scotch['dist']\n"
   ]
  },
  {
   "cell_type": "code",
   "execution_count": 7,
   "metadata": {},
   "outputs": [
    {
     "name": "stderr",
     "output_type": "stream",
     "text": [
      "/home/user/anaconda2/lib/python2.7/site-packages/sklearn/preprocessing/data.py:323: DataConversionWarning: Data with input dtype int64 were all converted to float64 by MinMaxScaler.\n",
      "  return self.partial_fit(X, y)\n"
     ]
    }
   ],
   "source": [
    "#Creating Train and Test Data for Classifying the Regions\n",
    "\n",
    "from sklearn.model_selection import train_test_split\n",
    "\n",
    "X_train, X_test, y_train, y_test = train_test_split(X, y, random_state=0)\n",
    "\n",
    "from sklearn.preprocessing import MinMaxScaler\n",
    "scaler = MinMaxScaler()\n",
    "X_train = scaler.fit_transform(X_train)\n",
    "X_test = scaler.transform(X_test)"
   ]
  },
  {
   "cell_type": "code",
   "execution_count": 14,
   "metadata": {},
   "outputs": [
    {
     "name": "stdout",
     "output_type": "stream",
     "text": [
      "Accuracy of Decision Tree classifier on training set: 0.95\n",
      "Accuracy of Decision Tree classifier on test set: 0.82\n"
     ]
    }
   ],
   "source": [
    "#Building decision tree model for classifying Regions-Districts and check the accuracy of model on Train and Test data\n",
    "from sklearn.tree import DecisionTreeClassifier\n",
    "from sklearn import tree\n",
    "clf = tree.DecisionTreeClassifier(max_depth=4).fit(X_train, y_train)\n",
    "\n",
    "print('Accuracy of Decision Tree classifier on training set: {:.2f}'\n",
    "     .format(clf.score(X_train, y_train)))\n",
    "print('Accuracy of Decision Tree classifier on test set: {:.2f}'\n",
    "     .format(clf.score(X_test, y_test)))"
   ]
  },
  {
   "cell_type": "code",
   "execution_count": 16,
   "metadata": {},
   "outputs": [],
   "source": [
    "#visualize the tree and save it into a pdf file\n",
    "import graphviz \n",
    "\n",
    "target_names = Scotch['regiondist']\n",
    "\n",
    "dot_data = tree.export_graphviz(clf, out_file=None, \n",
    "                      feature_names=featurenames,  \n",
    "                      class_names=target_names,  \n",
    "                      filled=True, rounded=True,  \n",
    "                      special_characters=True)  \n",
    "graph = graphviz.Source(dot_data)  \n",
    "graph \n",
    "#dot_data = tree.export_graphviz(clf, out_file=None)\n",
    "#graph = graphviz.Source(dot_data) \n",
    "graph.render(\"Scotch-tree\") \n",
    "\n",
    "plt.show()\n"
   ]
  }
 ],
 "metadata": {
  "kernelspec": {
   "display_name": "Python 2",
   "language": "python",
   "name": "python2"
  },
  "language_info": {
   "codemirror_mode": {
    "name": "ipython",
    "version": 2
   },
   "file_extension": ".py",
   "mimetype": "text/x-python",
   "name": "python",
   "nbconvert_exporter": "python",
   "pygments_lexer": "ipython2",
   "version": "2.7.15"
  }
 },
 "nbformat": 4,
 "nbformat_minor": 2
}
